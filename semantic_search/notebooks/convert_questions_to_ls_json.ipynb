{
 "cells": [
  {
   "cell_type": "code",
   "execution_count": 3,
   "metadata": {},
   "outputs": [
    {
     "name": "stdout",
     "output_type": "stream",
     "text": [
      "40\n"
     ]
    }
   ],
   "source": [
    "def get_reports(path_to_output_file):\n",
    "\n",
    "    with open(path_to_output_file, 'r') as f:\n",
    "        output_file = f.read()\n",
    "        reports = output_file.split('***')\n",
    "        reports = [r for r in reports if 'Referens:' in r ]\n",
    "\n",
    "    return reports"
   ]
  },
  {
   "cell_type": "code",
   "execution_count": null,
   "metadata": {},
   "outputs": [],
   "source": [
    "# Sample input text from the user, which describes questions, references, explanations, and text excerpts.\n",
    "# This is a simplified version based on the provided structure.\n",
    "input_text = \"\"\"\n",
    "1. Fråga: Vilken var rollen för allmänheten i polisarbetet under 1800-talets senare hälft i Göteborg?\n",
    "Referens: \"Hustrun Ida Eriksson, boende i huset No 14 vid Vestra Hamngatan, har Poliskonstapeln No 9 Hulthén Torsdagen den 31 sistl. December kl. 2.30 e.m. anhållit för tredje resan stöld straffade förre tvångsarbetsfången Nikolaus Svensson\"\n",
    "Förklaring: Hustru Eriksson gjorde en anmälan till polisen, vilket visar att allmänheten spelade en viktig roll i att rapportera brott och bistå med information.\n",
    "Highlighted text: \"Hustrun Ida Eriksson, boende i huset No 14 vid Vestra Hamngatan\"\n",
    "\n",
    "2. Fråga: Vilka metoder använde polisen för att förhöra misstänkta under 1800-talets senare hälft i Göteborg?\n",
    "Referens: \"Vid med Svensson i närvaro af polisöfverkonstapeln J. Bohlin och detektivkonstapeln G. Lindgren anstäldt förhör har han uppgifvit och förklarat: att han vid ifrågakomna tillfälle besökt huset\"\n",
    "Förklaring: Detta exempel visar att polisen använde förhör som en metod för att samla information.\n",
    "Highlighted text: \"Vid med Svensson i närvaro af polisöfverkonstapeln J. Bohlin och detektivkonstapeln G. Lindgren anstäldt förhör\"\n",
    "\"\"\"\n",
    "path_to_output_file = '/workspaces/huminfra_hackathon/semantic_search/output/example_questions.txt'\n",
    "\n",
    "reports = get_reports(path_to_output_file)\n",
    "# Split the input text into blocks for each question\n",
    "#blocks = input_text.strip().split('\\n\\n')\n",
    "for report in reports:\n",
    "    text = report.split('text:')\n",
    "    questions = report.split('text:')[1].split('Fråga:')\n",
    "    for q in questions:\n",
    "        motivation = q.split('\\n')[2]\n",
    "        question = q.split('\\n')[0]\n",
    "        reference = q.split('\\n')[1]\n",
    "        print(f\"motivation: {motivation}, question: {question}, reference: {reference}\")\n",
    "        # Process each block to extract the relevant fields and construct the JSON object for each\n",
    "    \n",
    "        \n",
    "        task = {\n",
    "            \"data\": {\n",
    "                \"question\": question,\n",
    "                \"text\": reference,\n",
    "                \"motivation\": explanation,\n",
    "                \"highlightedText\": highlighted_text\n",
    "            }\n",
    "        }\n",
    "        tasks.append(task)\n",
    "\n",
    "    tasks\n"
   ]
  }
 ],
 "metadata": {
  "kernelspec": {
   "display_name": ".venv",
   "language": "python",
   "name": "python3"
  },
  "language_info": {
   "codemirror_mode": {
    "name": "ipython",
    "version": 3
   },
   "file_extension": ".py",
   "mimetype": "text/x-python",
   "name": "python",
   "nbconvert_exporter": "python",
   "pygments_lexer": "ipython3",
   "version": "3.10.14"
  }
 },
 "nbformat": 4,
 "nbformat_minor": 2
}
