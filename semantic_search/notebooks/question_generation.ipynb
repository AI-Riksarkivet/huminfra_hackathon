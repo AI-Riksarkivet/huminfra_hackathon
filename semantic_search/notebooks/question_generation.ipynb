{
 "cells": [
  {
   "cell_type": "code",
   "execution_count": null,
   "metadata": {},
   "outputs": [],
   "source": [
    "import openai\n",
    "import pandas as pd\n",
    "import numpy as np\n",
    "import os\n",
    "\n",
    "def generate_queries(theme, context, num_queries=3, model=\"text-davinci-003\", temperature=0.7):\n",
    "    \"\"\"\n",
    "    Generates search queries based on a theme and historical context using the OpenAI API.\n",
    "    \n",
    "    :param theme: The theme or research question to base queries on.\n",
    "    :param context: Historical text to provide context for the query generation.\n",
    "    :param num_queries: Number of queries to generate.\n",
    "    :param model: The OpenAI GPT model to use.\n",
    "    :param temperature: The temperature to use for the generation (controls randomness).\n",
    "    :return: A list of generated queries.\n",
    "    \"\"\"\n",
    "    # Constructing the prompt\n",
    "    #prompt = f\"Givet en övergripande forskningsfråga '{theme}' och den följande texten: '{context}', skapa {num_queries} eller färre frågor som relaterar till den övergripande forskningsfrågan, och som har sitt svar i texten. Om inga relaterade frågor finns i texten, så returnera inga frågor:\"\n",
    "    \n",
    "    openai.api_key = os.getenv('OPENAI_KEY_WORKING')\n",
    "    response = openai.chat.completions.create(\n",
    "    model=\"gpt-4\",\n",
    "    messages=[\n",
    "        {\"role\": \"system\", \"content\": \"\"},\n",
    "        {\"role\": \"user\", \"content\": f\"Vänligen använd {theme} som min övergripande sökfråga och generera nya frågor baserade på denna text: {context}. Jag önskar att dessa nya frågor relaterar till: {theme} och att du också anger var i: {context} de är hämtade från för att ge mig referenser. Motivera också kopplingen mellan frågan och referensen.\"}\n",
    "        #{\"role\": \"assistant\", \"content\": f\"Här är texten som ska innehålla svaret på de mer detaljerade frågorna eller sökningarna: {context}\"}\n",
    "        #{\"role\": \"user\", \"content\": \"Har de extraherade frågorna sitt svar i kontexten, och är de relaterade till den övergripande frågeställningen: {theme}\"}\n",
    "    ]\n",
    "    \n",
    "    )\n",
    "    return response"
   ]
  },
  {
   "cell_type": "code",
   "execution_count": null,
   "metadata": {},
   "outputs": [],
   "source": [
    "import json\n",
    "\n",
    "with open('/workspaces/huminfra_hackathon/semantic_search/reports.json', 'r') as f:\n",
    "    volumes = json.load(f)\n",
    "with open('/workspaces/huminfra_hackathon/semantic_search/output/example_questions.txt', 'w') as f:\n",
    "    for vol_key, value in volumes.items():\n",
    "        for i, report in enumerate(value['reports']):\n",
    "            chunk = '\\n'.join(report)\n",
    "            answer = generate_queries(\n",
    "                theme='Hur arbetade polisen i Göteborg under 1800-talets senare hälft? (arbetsuppgifter, fördelning av arbetsuppgifter, gjorde konstaplarna samma saker osv)',\n",
    "                context=chunk,\n",
    "                num_queries=3\n",
    "            )\n",
    "            f.write(answer.choices[0].message.content)\n",
    "            f.write(f\"volume: {vol_key}\\nreport: {i}\\ntext: {chunk}\\n***\\n\")\n",
    "            print(i)\n",
    "        break"
   ]
  }
 ],
 "metadata": {
  "kernelspec": {
   "display_name": "Python 3",
   "language": "python",
   "name": "python3"
  },
  "language_info": {
   "codemirror_mode": {
    "name": "ipython",
    "version": 3
   },
   "file_extension": ".py",
   "mimetype": "text/x-python",
   "name": "python",
   "nbconvert_exporter": "python",
   "pygments_lexer": "ipython3",
   "version": "3.10.14"
  }
 },
 "nbformat": 4,
 "nbformat_minor": 2
}
