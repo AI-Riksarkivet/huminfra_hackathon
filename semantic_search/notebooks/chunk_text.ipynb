{
 "cells": [
  {
   "cell_type": "code",
   "execution_count": null,
   "metadata": {},
   "outputs": [],
   "source": [
    "import glob"
   ]
  },
  {
   "cell_type": "code",
   "execution_count": null,
   "metadata": {},
   "outputs": [],
   "source": [
    "def get_metadata(fn):\n",
    "    start = \"----------------------------\"\n",
    "    end = \"-----------------------\"\n",
    "    with open(fn) as fh:\n",
    "        metadata = {}\n",
    "        is_metadata = False\n",
    "        for line in fh:\n",
    "            if line.strip() == start or line.strip() == end:\n",
    "                pass\n",
    "            elif line.strip() == \"Metadata section of document\":\n",
    "                is_metadata = True\n",
    "            elif line.strip() == \"End of metadata section\":\n",
    "                return metadata\n",
    "            elif is_metadata:\n",
    "                key_value = line.strip().split(\":\")\n",
    "                if len(key_value) == 2:\n",
    "                    key, value = key_value\n",
    "                    metadata[key] = value\n",
    "                elif len(key_value) == 1:\n",
    "                    metadata[key_value[0]] = None\n",
    "                else:\n",
    "                    pass\n"
   ]
  },
  {
   "cell_type": "code",
   "execution_count": null,
   "metadata": {},
   "outputs": [],
   "source": [
    "get_metadata(\"../data/A_II_1a.txt\")"
   ]
  },
  {
   "cell_type": "code",
   "execution_count": null,
   "metadata": {},
   "outputs": [],
   "source": [
    "def get_reports_E(fn):\n",
    "    end_1 = \"-----------------------\"\n",
    "    end_2 = \"End of metadata section\"\n",
    "    _start = False\n",
    "    skip = True\n",
    "    with open(fn) as fh:\n",
    "        report = []\n",
    "        for line in fh:\n",
    "            if line.strip() == end_2:\n",
    "                _start = True\n",
    "            if line.strip() == end_1 and _start:\n",
    "                skip = False\n",
    "                continue\n",
    "            if skip:\n",
    "                continue\n",
    "            if line.strip() == \"\":\n",
    "                if report:\n",
    "                    yield report\n",
    "                    report = []\n",
    "            else:\n",
    "                report.append(line.strip())\n",
    "    if report:\n",
    "        yield report"
   ]
  },
  {
   "cell_type": "code",
   "execution_count": null,
   "metadata": {},
   "outputs": [],
   "source": [
    "for report in get_reports_AB(\"../data/A_II_1a.txt\"):\n",
    "    print(report)"
   ]
  },
  {
   "cell_type": "code",
   "execution_count": null,
   "metadata": {},
   "outputs": [],
   "source": [
    "def get_reports_AB(fn):\n",
    "    end_1 = \"-----------------------\"\n",
    "    end_2 = \"End of metadata section\"\n",
    "    _start = False\n",
    "    skip = True\n",
    "    with open(fn) as fh:\n",
    "        report = []\n",
    "        prev_1 = False\n",
    "        prev_2 = False\n",
    "        for line in fh:\n",
    "            if line.strip() == end_2:\n",
    "                _start = True\n",
    "            if line.strip() == end_1 and _start:\n",
    "                skip = False\n",
    "                continue\n",
    "            if skip:\n",
    "                continue\n",
    "            if (line.startswith(\"No\") or line.startswith(\"Rapport\")) and prev_1 and prev_2:\n",
    "                if report:\n",
    "                    yield report\n",
    "                    report = []\n",
    "            report.append(line.strip())\n",
    "            if line.strip() == \"\":\n",
    "                if prev_1:\n",
    "                    prev_2 = True\n",
    "                else:\n",
    "                    prev_1 = True\n",
    "            else:\n",
    "                prev_1 = False\n",
    "                prev_2 = False\n",
    "    if report:\n",
    "        yield report\n"
   ]
  },
  {
   "cell_type": "code",
   "execution_count": null,
   "metadata": {},
   "outputs": [],
   "source": [
    "def get_reports(fn):\n",
    "    _fn = fn.split(\"/\")[-1]\n",
    "    if _fn.startswith(\"E\"):\n",
    "        yield from get_reports_E(fn)\n",
    "    else:\n",
    "        yield from get_reports_AB(fn)"
   ]
  },
  {
   "cell_type": "code",
   "execution_count": null,
   "metadata": {},
   "outputs": [],
   "source": [
    "def get_all_reports(data):\n",
    "    reports = {}\n",
    "    for fn in glob.glob(f\"{data}/*txt\"):\n",
    "        metadata = get_metadata(fn)\n",
    "        reports[fn] = {\"metadata\": metadata, \"reports\": []}\n",
    "        for report in get_reports(fn):\n",
    "            reports[fn][\"reports\"].append(report)\n",
    "    return reports"
   ]
  },
  {
   "cell_type": "code",
   "execution_count": null,
   "metadata": {},
   "outputs": [],
   "source": [
    "reports = get_all_reports(\"../data/\")"
   ]
  },
  {
   "cell_type": "code",
   "execution_count": null,
   "metadata": {},
   "outputs": [],
   "source": [
    "reports"
   ]
  }
 ],
 "metadata": {
  "kernelspec": {
   "display_name": "Python 3",
   "language": "python",
   "name": "python3"
  },
  "language_info": {
   "codemirror_mode": {
    "name": "ipython",
    "version": 3
   },
   "file_extension": ".py",
   "mimetype": "text/x-python",
   "name": "python",
   "nbconvert_exporter": "python",
   "pygments_lexer": "ipython3",
   "version": "3.10.14"
  }
 },
 "nbformat": 4,
 "nbformat_minor": 2
}
